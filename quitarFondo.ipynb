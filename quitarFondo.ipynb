{
  "nbformat": 4,
  "nbformat_minor": 0,
  "metadata": {
    "colab": {
      "provenance": [],
      "authorship_tag": "ABX9TyN9HySfe0/tQ/S8n9ftavE7",
      "include_colab_link": true
    },
    "kernelspec": {
      "name": "python3",
      "display_name": "Python 3"
    },
    "language_info": {
      "name": "python"
    }
  },
  "cells": [
    {
      "cell_type": "markdown",
      "metadata": {
        "id": "view-in-github",
        "colab_type": "text"
      },
      "source": [
        "<a href=\"https://colab.research.google.com/github/jhoyosubarnes/quitarFondos/blob/main/quitarFondo.ipynb\" target=\"_parent\"><img src=\"https://colab.research.google.com/assets/colab-badge.svg\" alt=\"Open In Colab\"/></a>"
      ]
    },
    {
      "cell_type": "code",
      "source": [
        " !pip install rembg"
      ],
      "metadata": {
        "id": "qhKF-QJxhvu2"
      },
      "execution_count": null,
      "outputs": []
    },
    {
      "cell_type": "code",
      "execution_count": null,
      "metadata": {
        "id": "G8MnVm5Nfr2_"
      },
      "outputs": [],
      "source": [
        "from rembg import remove\n",
        "from PIL import Image"
      ]
    },
    {
      "cell_type": "code",
      "source": [
        "!pip install pycurl"
      ],
      "metadata": {
        "id": "qopBa2Gelsp7"
      },
      "execution_count": null,
      "outputs": []
    },
    {
      "cell_type": "code",
      "source": [
        "input_path = '/content/fox-gdca.jpg'\n",
        "output_path = 'fox-gdcaNew.png'\n",
        "input = Image.open(input_path)\n",
        "output = remove(input)\n",
        "output.save(output_path)"
      ],
      "metadata": {
        "id": "5u-kzmw9hOvB"
      },
      "execution_count": null,
      "outputs": []
    }
  ]
}